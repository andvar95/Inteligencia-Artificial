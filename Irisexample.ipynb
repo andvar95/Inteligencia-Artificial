{
  "nbformat": 4,
  "nbformat_minor": 0,
  "metadata": {
    "colab": {
      "name": "Irisexample.ipynb",
      "provenance": [],
      "collapsed_sections": [],
      "authorship_tag": "ABX9TyOyKQUXLqS9XLvzlcGUPfKA",
      "include_colab_link": true
    },
    "kernelspec": {
      "name": "python3",
      "display_name": "Python 3"
    }
  },
  "cells": [
    {
      "cell_type": "markdown",
      "metadata": {
        "id": "view-in-github",
        "colab_type": "text"
      },
      "source": [
        "<a href=\"https://colab.research.google.com/github/andvar95/Inteligencia-Artificial/blob/main/Irisexample.ipynb\" target=\"_parent\"><img src=\"https://colab.research.google.com/assets/colab-badge.svg\" alt=\"Open In Colab\"/></a>"
      ]
    },
    {
      "cell_type": "markdown",
      "metadata": {
        "id": "7pPBTfkrfNSm"
      },
      "source": [
        "This example use Iris dataset included in scikit learn library to train a MLPClassifier model, and so, observe clasification zone for each class. \n",
        "\n",
        "Este ejemplo use los datos Iris incluidos en la librería sickit learn para entrenar un modelo MLP (Perceptrón Multicapa), y así, observar la zona de clasificación para cada clase. \n"
      ]
    },
    {
      "cell_type": "code",
      "metadata": {
        "id": "0f3zHjgMH1Kb"
      },
      "source": [
        "import numpy as np\n",
        "import matplotlib.pyplot as plt\n",
        "from sklearn import datasets\n",
        "from sklearn.neural_network import MLPClassifier"
      ],
      "execution_count": null,
      "outputs": []
    },
    {
      "cell_type": "markdown",
      "metadata": {
        "id": "aCSHQ-2ggl9L"
      },
      "source": [
        "It loads Iris dataset, this contents a features that consist in four values sepal length, sepal widht, petal length and petal width all theses in cm and its labels. \n",
        "\n",
        "Se Carga el cojunto de datos IRIS, este contiene una características que consiste en cuatro valores longitud del sepalo, ancho del sepalo, longitud petalo, ancho del petalo todos estos en cm y sus etiquetas. "
      ]
    },
    {
      "cell_type": "code",
      "metadata": {
        "id": "3AJvjSZd27PG",
        "colab": {
          "base_uri": "https://localhost:8080/",
          "height": 1000
        },
        "outputId": "e1f940c4-0fd6-451e-dcd9-c17072fa8bd1"
      },
      "source": [
        "# import Iris data \n",
        "iris = datasets.load_iris()\n",
        "iris\n"
      ],
      "execution_count": null,
      "outputs": [
        {
          "output_type": "execute_result",
          "data": {
            "text/plain": [
              "{'DESCR': '.. _iris_dataset:\\n\\nIris plants dataset\\n--------------------\\n\\n**Data Set Characteristics:**\\n\\n    :Number of Instances: 150 (50 in each of three classes)\\n    :Number of Attributes: 4 numeric, predictive attributes and the class\\n    :Attribute Information:\\n        - sepal length in cm\\n        - sepal width in cm\\n        - petal length in cm\\n        - petal width in cm\\n        - class:\\n                - Iris-Setosa\\n                - Iris-Versicolour\\n                - Iris-Virginica\\n                \\n    :Summary Statistics:\\n\\n    ============== ==== ==== ======= ===== ====================\\n                    Min  Max   Mean    SD   Class Correlation\\n    ============== ==== ==== ======= ===== ====================\\n    sepal length:   4.3  7.9   5.84   0.83    0.7826\\n    sepal width:    2.0  4.4   3.05   0.43   -0.4194\\n    petal length:   1.0  6.9   3.76   1.76    0.9490  (high!)\\n    petal width:    0.1  2.5   1.20   0.76    0.9565  (high!)\\n    ============== ==== ==== ======= ===== ====================\\n\\n    :Missing Attribute Values: None\\n    :Class Distribution: 33.3% for each of 3 classes.\\n    :Creator: R.A. Fisher\\n    :Donor: Michael Marshall (MARSHALL%PLU@io.arc.nasa.gov)\\n    :Date: July, 1988\\n\\nThe famous Iris database, first used by Sir R.A. Fisher. The dataset is taken\\nfrom Fisher\\'s paper. Note that it\\'s the same as in R, but not as in the UCI\\nMachine Learning Repository, which has two wrong data points.\\n\\nThis is perhaps the best known database to be found in the\\npattern recognition literature.  Fisher\\'s paper is a classic in the field and\\nis referenced frequently to this day.  (See Duda & Hart, for example.)  The\\ndata set contains 3 classes of 50 instances each, where each class refers to a\\ntype of iris plant.  One class is linearly separable from the other 2; the\\nlatter are NOT linearly separable from each other.\\n\\n.. topic:: References\\n\\n   - Fisher, R.A. \"The use of multiple measurements in taxonomic problems\"\\n     Annual Eugenics, 7, Part II, 179-188 (1936); also in \"Contributions to\\n     Mathematical Statistics\" (John Wiley, NY, 1950).\\n   - Duda, R.O., & Hart, P.E. (1973) Pattern Classification and Scene Analysis.\\n     (Q327.D83) John Wiley & Sons.  ISBN 0-471-22361-1.  See page 218.\\n   - Dasarathy, B.V. (1980) \"Nosing Around the Neighborhood: A New System\\n     Structure and Classification Rule for Recognition in Partially Exposed\\n     Environments\".  IEEE Transactions on Pattern Analysis and Machine\\n     Intelligence, Vol. PAMI-2, No. 1, 67-71.\\n   - Gates, G.W. (1972) \"The Reduced Nearest Neighbor Rule\".  IEEE Transactions\\n     on Information Theory, May 1972, 431-433.\\n   - See also: 1988 MLC Proceedings, 54-64.  Cheeseman et al\"s AUTOCLASS II\\n     conceptual clustering system finds 3 classes in the data.\\n   - Many, many more ...',\n",
              " 'data': array([[5.1, 3.5, 1.4, 0.2],\n",
              "        [4.9, 3. , 1.4, 0.2],\n",
              "        [4.7, 3.2, 1.3, 0.2],\n",
              "        [4.6, 3.1, 1.5, 0.2],\n",
              "        [5. , 3.6, 1.4, 0.2],\n",
              "        [5.4, 3.9, 1.7, 0.4],\n",
              "        [4.6, 3.4, 1.4, 0.3],\n",
              "        [5. , 3.4, 1.5, 0.2],\n",
              "        [4.4, 2.9, 1.4, 0.2],\n",
              "        [4.9, 3.1, 1.5, 0.1],\n",
              "        [5.4, 3.7, 1.5, 0.2],\n",
              "        [4.8, 3.4, 1.6, 0.2],\n",
              "        [4.8, 3. , 1.4, 0.1],\n",
              "        [4.3, 3. , 1.1, 0.1],\n",
              "        [5.8, 4. , 1.2, 0.2],\n",
              "        [5.7, 4.4, 1.5, 0.4],\n",
              "        [5.4, 3.9, 1.3, 0.4],\n",
              "        [5.1, 3.5, 1.4, 0.3],\n",
              "        [5.7, 3.8, 1.7, 0.3],\n",
              "        [5.1, 3.8, 1.5, 0.3],\n",
              "        [5.4, 3.4, 1.7, 0.2],\n",
              "        [5.1, 3.7, 1.5, 0.4],\n",
              "        [4.6, 3.6, 1. , 0.2],\n",
              "        [5.1, 3.3, 1.7, 0.5],\n",
              "        [4.8, 3.4, 1.9, 0.2],\n",
              "        [5. , 3. , 1.6, 0.2],\n",
              "        [5. , 3.4, 1.6, 0.4],\n",
              "        [5.2, 3.5, 1.5, 0.2],\n",
              "        [5.2, 3.4, 1.4, 0.2],\n",
              "        [4.7, 3.2, 1.6, 0.2],\n",
              "        [4.8, 3.1, 1.6, 0.2],\n",
              "        [5.4, 3.4, 1.5, 0.4],\n",
              "        [5.2, 4.1, 1.5, 0.1],\n",
              "        [5.5, 4.2, 1.4, 0.2],\n",
              "        [4.9, 3.1, 1.5, 0.2],\n",
              "        [5. , 3.2, 1.2, 0.2],\n",
              "        [5.5, 3.5, 1.3, 0.2],\n",
              "        [4.9, 3.6, 1.4, 0.1],\n",
              "        [4.4, 3. , 1.3, 0.2],\n",
              "        [5.1, 3.4, 1.5, 0.2],\n",
              "        [5. , 3.5, 1.3, 0.3],\n",
              "        [4.5, 2.3, 1.3, 0.3],\n",
              "        [4.4, 3.2, 1.3, 0.2],\n",
              "        [5. , 3.5, 1.6, 0.6],\n",
              "        [5.1, 3.8, 1.9, 0.4],\n",
              "        [4.8, 3. , 1.4, 0.3],\n",
              "        [5.1, 3.8, 1.6, 0.2],\n",
              "        [4.6, 3.2, 1.4, 0.2],\n",
              "        [5.3, 3.7, 1.5, 0.2],\n",
              "        [5. , 3.3, 1.4, 0.2],\n",
              "        [7. , 3.2, 4.7, 1.4],\n",
              "        [6.4, 3.2, 4.5, 1.5],\n",
              "        [6.9, 3.1, 4.9, 1.5],\n",
              "        [5.5, 2.3, 4. , 1.3],\n",
              "        [6.5, 2.8, 4.6, 1.5],\n",
              "        [5.7, 2.8, 4.5, 1.3],\n",
              "        [6.3, 3.3, 4.7, 1.6],\n",
              "        [4.9, 2.4, 3.3, 1. ],\n",
              "        [6.6, 2.9, 4.6, 1.3],\n",
              "        [5.2, 2.7, 3.9, 1.4],\n",
              "        [5. , 2. , 3.5, 1. ],\n",
              "        [5.9, 3. , 4.2, 1.5],\n",
              "        [6. , 2.2, 4. , 1. ],\n",
              "        [6.1, 2.9, 4.7, 1.4],\n",
              "        [5.6, 2.9, 3.6, 1.3],\n",
              "        [6.7, 3.1, 4.4, 1.4],\n",
              "        [5.6, 3. , 4.5, 1.5],\n",
              "        [5.8, 2.7, 4.1, 1. ],\n",
              "        [6.2, 2.2, 4.5, 1.5],\n",
              "        [5.6, 2.5, 3.9, 1.1],\n",
              "        [5.9, 3.2, 4.8, 1.8],\n",
              "        [6.1, 2.8, 4. , 1.3],\n",
              "        [6.3, 2.5, 4.9, 1.5],\n",
              "        [6.1, 2.8, 4.7, 1.2],\n",
              "        [6.4, 2.9, 4.3, 1.3],\n",
              "        [6.6, 3. , 4.4, 1.4],\n",
              "        [6.8, 2.8, 4.8, 1.4],\n",
              "        [6.7, 3. , 5. , 1.7],\n",
              "        [6. , 2.9, 4.5, 1.5],\n",
              "        [5.7, 2.6, 3.5, 1. ],\n",
              "        [5.5, 2.4, 3.8, 1.1],\n",
              "        [5.5, 2.4, 3.7, 1. ],\n",
              "        [5.8, 2.7, 3.9, 1.2],\n",
              "        [6. , 2.7, 5.1, 1.6],\n",
              "        [5.4, 3. , 4.5, 1.5],\n",
              "        [6. , 3.4, 4.5, 1.6],\n",
              "        [6.7, 3.1, 4.7, 1.5],\n",
              "        [6.3, 2.3, 4.4, 1.3],\n",
              "        [5.6, 3. , 4.1, 1.3],\n",
              "        [5.5, 2.5, 4. , 1.3],\n",
              "        [5.5, 2.6, 4.4, 1.2],\n",
              "        [6.1, 3. , 4.6, 1.4],\n",
              "        [5.8, 2.6, 4. , 1.2],\n",
              "        [5. , 2.3, 3.3, 1. ],\n",
              "        [5.6, 2.7, 4.2, 1.3],\n",
              "        [5.7, 3. , 4.2, 1.2],\n",
              "        [5.7, 2.9, 4.2, 1.3],\n",
              "        [6.2, 2.9, 4.3, 1.3],\n",
              "        [5.1, 2.5, 3. , 1.1],\n",
              "        [5.7, 2.8, 4.1, 1.3],\n",
              "        [6.3, 3.3, 6. , 2.5],\n",
              "        [5.8, 2.7, 5.1, 1.9],\n",
              "        [7.1, 3. , 5.9, 2.1],\n",
              "        [6.3, 2.9, 5.6, 1.8],\n",
              "        [6.5, 3. , 5.8, 2.2],\n",
              "        [7.6, 3. , 6.6, 2.1],\n",
              "        [4.9, 2.5, 4.5, 1.7],\n",
              "        [7.3, 2.9, 6.3, 1.8],\n",
              "        [6.7, 2.5, 5.8, 1.8],\n",
              "        [7.2, 3.6, 6.1, 2.5],\n",
              "        [6.5, 3.2, 5.1, 2. ],\n",
              "        [6.4, 2.7, 5.3, 1.9],\n",
              "        [6.8, 3. , 5.5, 2.1],\n",
              "        [5.7, 2.5, 5. , 2. ],\n",
              "        [5.8, 2.8, 5.1, 2.4],\n",
              "        [6.4, 3.2, 5.3, 2.3],\n",
              "        [6.5, 3. , 5.5, 1.8],\n",
              "        [7.7, 3.8, 6.7, 2.2],\n",
              "        [7.7, 2.6, 6.9, 2.3],\n",
              "        [6. , 2.2, 5. , 1.5],\n",
              "        [6.9, 3.2, 5.7, 2.3],\n",
              "        [5.6, 2.8, 4.9, 2. ],\n",
              "        [7.7, 2.8, 6.7, 2. ],\n",
              "        [6.3, 2.7, 4.9, 1.8],\n",
              "        [6.7, 3.3, 5.7, 2.1],\n",
              "        [7.2, 3.2, 6. , 1.8],\n",
              "        [6.2, 2.8, 4.8, 1.8],\n",
              "        [6.1, 3. , 4.9, 1.8],\n",
              "        [6.4, 2.8, 5.6, 2.1],\n",
              "        [7.2, 3. , 5.8, 1.6],\n",
              "        [7.4, 2.8, 6.1, 1.9],\n",
              "        [7.9, 3.8, 6.4, 2. ],\n",
              "        [6.4, 2.8, 5.6, 2.2],\n",
              "        [6.3, 2.8, 5.1, 1.5],\n",
              "        [6.1, 2.6, 5.6, 1.4],\n",
              "        [7.7, 3. , 6.1, 2.3],\n",
              "        [6.3, 3.4, 5.6, 2.4],\n",
              "        [6.4, 3.1, 5.5, 1.8],\n",
              "        [6. , 3. , 4.8, 1.8],\n",
              "        [6.9, 3.1, 5.4, 2.1],\n",
              "        [6.7, 3.1, 5.6, 2.4],\n",
              "        [6.9, 3.1, 5.1, 2.3],\n",
              "        [5.8, 2.7, 5.1, 1.9],\n",
              "        [6.8, 3.2, 5.9, 2.3],\n",
              "        [6.7, 3.3, 5.7, 2.5],\n",
              "        [6.7, 3. , 5.2, 2.3],\n",
              "        [6.3, 2.5, 5. , 1.9],\n",
              "        [6.5, 3. , 5.2, 2. ],\n",
              "        [6.2, 3.4, 5.4, 2.3],\n",
              "        [5.9, 3. , 5.1, 1.8]]),\n",
              " 'feature_names': ['sepal length (cm)',\n",
              "  'sepal width (cm)',\n",
              "  'petal length (cm)',\n",
              "  'petal width (cm)'],\n",
              " 'filename': '/usr/local/lib/python3.6/dist-packages/sklearn/datasets/data/iris.csv',\n",
              " 'target': array([0, 0, 0, 0, 0, 0, 0, 0, 0, 0, 0, 0, 0, 0, 0, 0, 0, 0, 0, 0, 0, 0,\n",
              "        0, 0, 0, 0, 0, 0, 0, 0, 0, 0, 0, 0, 0, 0, 0, 0, 0, 0, 0, 0, 0, 0,\n",
              "        0, 0, 0, 0, 0, 0, 1, 1, 1, 1, 1, 1, 1, 1, 1, 1, 1, 1, 1, 1, 1, 1,\n",
              "        1, 1, 1, 1, 1, 1, 1, 1, 1, 1, 1, 1, 1, 1, 1, 1, 1, 1, 1, 1, 1, 1,\n",
              "        1, 1, 1, 1, 1, 1, 1, 1, 1, 1, 1, 1, 2, 2, 2, 2, 2, 2, 2, 2, 2, 2,\n",
              "        2, 2, 2, 2, 2, 2, 2, 2, 2, 2, 2, 2, 2, 2, 2, 2, 2, 2, 2, 2, 2, 2,\n",
              "        2, 2, 2, 2, 2, 2, 2, 2, 2, 2, 2, 2, 2, 2, 2, 2, 2, 2]),\n",
              " 'target_names': array(['setosa', 'versicolor', 'virginica'], dtype='<U10')}"
            ]
          },
          "metadata": {
            "tags": []
          },
          "execution_count": 4
        }
      ]
    },
    {
      "cell_type": "markdown",
      "metadata": {
        "id": "TDvjJrlCijc_"
      },
      "source": [
        "It only uses two first features so as to can graph the points, mereover, it extracts the labels\n",
        "\n",
        "Solo se usan las dos primeras características para poder graficar los puntos, además, se extraen  las características"
      ]
    },
    {
      "cell_type": "code",
      "metadata": {
        "id": "w4h61omOjzRU",
        "colab": {
          "base_uri": "https://localhost:8080/",
          "height": 1000
        },
        "outputId": "6ff62d7f-049f-4e53-dd8b-377d11d0b047"
      },
      "source": [
        "X = iris.data[:, :2]\n",
        "y = iris.target\n",
        "colors = \"bry\"\n",
        "X"
      ],
      "execution_count": null,
      "outputs": [
        {
          "output_type": "execute_result",
          "data": {
            "text/plain": [
              "array([[5.1, 3.5],\n",
              "       [4.9, 3. ],\n",
              "       [4.7, 3.2],\n",
              "       [4.6, 3.1],\n",
              "       [5. , 3.6],\n",
              "       [5.4, 3.9],\n",
              "       [4.6, 3.4],\n",
              "       [5. , 3.4],\n",
              "       [4.4, 2.9],\n",
              "       [4.9, 3.1],\n",
              "       [5.4, 3.7],\n",
              "       [4.8, 3.4],\n",
              "       [4.8, 3. ],\n",
              "       [4.3, 3. ],\n",
              "       [5.8, 4. ],\n",
              "       [5.7, 4.4],\n",
              "       [5.4, 3.9],\n",
              "       [5.1, 3.5],\n",
              "       [5.7, 3.8],\n",
              "       [5.1, 3.8],\n",
              "       [5.4, 3.4],\n",
              "       [5.1, 3.7],\n",
              "       [4.6, 3.6],\n",
              "       [5.1, 3.3],\n",
              "       [4.8, 3.4],\n",
              "       [5. , 3. ],\n",
              "       [5. , 3.4],\n",
              "       [5.2, 3.5],\n",
              "       [5.2, 3.4],\n",
              "       [4.7, 3.2],\n",
              "       [4.8, 3.1],\n",
              "       [5.4, 3.4],\n",
              "       [5.2, 4.1],\n",
              "       [5.5, 4.2],\n",
              "       [4.9, 3.1],\n",
              "       [5. , 3.2],\n",
              "       [5.5, 3.5],\n",
              "       [4.9, 3.6],\n",
              "       [4.4, 3. ],\n",
              "       [5.1, 3.4],\n",
              "       [5. , 3.5],\n",
              "       [4.5, 2.3],\n",
              "       [4.4, 3.2],\n",
              "       [5. , 3.5],\n",
              "       [5.1, 3.8],\n",
              "       [4.8, 3. ],\n",
              "       [5.1, 3.8],\n",
              "       [4.6, 3.2],\n",
              "       [5.3, 3.7],\n",
              "       [5. , 3.3],\n",
              "       [7. , 3.2],\n",
              "       [6.4, 3.2],\n",
              "       [6.9, 3.1],\n",
              "       [5.5, 2.3],\n",
              "       [6.5, 2.8],\n",
              "       [5.7, 2.8],\n",
              "       [6.3, 3.3],\n",
              "       [4.9, 2.4],\n",
              "       [6.6, 2.9],\n",
              "       [5.2, 2.7],\n",
              "       [5. , 2. ],\n",
              "       [5.9, 3. ],\n",
              "       [6. , 2.2],\n",
              "       [6.1, 2.9],\n",
              "       [5.6, 2.9],\n",
              "       [6.7, 3.1],\n",
              "       [5.6, 3. ],\n",
              "       [5.8, 2.7],\n",
              "       [6.2, 2.2],\n",
              "       [5.6, 2.5],\n",
              "       [5.9, 3.2],\n",
              "       [6.1, 2.8],\n",
              "       [6.3, 2.5],\n",
              "       [6.1, 2.8],\n",
              "       [6.4, 2.9],\n",
              "       [6.6, 3. ],\n",
              "       [6.8, 2.8],\n",
              "       [6.7, 3. ],\n",
              "       [6. , 2.9],\n",
              "       [5.7, 2.6],\n",
              "       [5.5, 2.4],\n",
              "       [5.5, 2.4],\n",
              "       [5.8, 2.7],\n",
              "       [6. , 2.7],\n",
              "       [5.4, 3. ],\n",
              "       [6. , 3.4],\n",
              "       [6.7, 3.1],\n",
              "       [6.3, 2.3],\n",
              "       [5.6, 3. ],\n",
              "       [5.5, 2.5],\n",
              "       [5.5, 2.6],\n",
              "       [6.1, 3. ],\n",
              "       [5.8, 2.6],\n",
              "       [5. , 2.3],\n",
              "       [5.6, 2.7],\n",
              "       [5.7, 3. ],\n",
              "       [5.7, 2.9],\n",
              "       [6.2, 2.9],\n",
              "       [5.1, 2.5],\n",
              "       [5.7, 2.8],\n",
              "       [6.3, 3.3],\n",
              "       [5.8, 2.7],\n",
              "       [7.1, 3. ],\n",
              "       [6.3, 2.9],\n",
              "       [6.5, 3. ],\n",
              "       [7.6, 3. ],\n",
              "       [4.9, 2.5],\n",
              "       [7.3, 2.9],\n",
              "       [6.7, 2.5],\n",
              "       [7.2, 3.6],\n",
              "       [6.5, 3.2],\n",
              "       [6.4, 2.7],\n",
              "       [6.8, 3. ],\n",
              "       [5.7, 2.5],\n",
              "       [5.8, 2.8],\n",
              "       [6.4, 3.2],\n",
              "       [6.5, 3. ],\n",
              "       [7.7, 3.8],\n",
              "       [7.7, 2.6],\n",
              "       [6. , 2.2],\n",
              "       [6.9, 3.2],\n",
              "       [5.6, 2.8],\n",
              "       [7.7, 2.8],\n",
              "       [6.3, 2.7],\n",
              "       [6.7, 3.3],\n",
              "       [7.2, 3.2],\n",
              "       [6.2, 2.8],\n",
              "       [6.1, 3. ],\n",
              "       [6.4, 2.8],\n",
              "       [7.2, 3. ],\n",
              "       [7.4, 2.8],\n",
              "       [7.9, 3.8],\n",
              "       [6.4, 2.8],\n",
              "       [6.3, 2.8],\n",
              "       [6.1, 2.6],\n",
              "       [7.7, 3. ],\n",
              "       [6.3, 3.4],\n",
              "       [6.4, 3.1],\n",
              "       [6. , 3. ],\n",
              "       [6.9, 3.1],\n",
              "       [6.7, 3.1],\n",
              "       [6.9, 3.1],\n",
              "       [5.8, 2.7],\n",
              "       [6.8, 3.2],\n",
              "       [6.7, 3.3],\n",
              "       [6.7, 3. ],\n",
              "       [6.3, 2.5],\n",
              "       [6.5, 3. ],\n",
              "       [6.2, 3.4],\n",
              "       [5.9, 3. ]])"
            ]
          },
          "metadata": {
            "tags": []
          },
          "execution_count": 7
        }
      ]
    },
    {
      "cell_type": "markdown",
      "metadata": {
        "id": "91U9Ynyw1baU"
      },
      "source": [
        "The dataset are shuffled  and it's used 'randon.seed()' to always select the same indexes when the algorithm is executed\n",
        "\n",
        "Los datos son barajados y es usado 'randon.seed' para que siempre seleccione los mismo indices cuando el algoritmo es ejecutado."
      ]
    },
    {
      "cell_type": "code",
      "metadata": {
        "id": "r4NUXSTJ1aXi"
      },
      "source": [
        "idx = np.arange(X.shape[0])\n",
        "np.random.seed(13)\n",
        "np.random.shuffle(idx)\n",
        "X = X[idx]\n",
        "y = y[idx]"
      ],
      "execution_count": null,
      "outputs": []
    },
    {
      "cell_type": "markdown",
      "metadata": {
        "id": "FNUQ9_r73wLU"
      },
      "source": [
        "The data training are standardized, substracting data mean and dividing by data standard deviation \n",
        "\n",
        "Los datos de entrenamiento son normalizados, restando la media de los datos y dividiendo por la desviación estandar"
      ]
    },
    {
      "cell_type": "code",
      "metadata": {
        "id": "L25YxhAv3ulb"
      },
      "source": [
        "mean = X.mean(axis=0)\n",
        "std = X.std(axis=0)\n",
        "X = (X - mean) / std"
      ],
      "execution_count": null,
      "outputs": []
    },
    {
      "cell_type": "markdown",
      "metadata": {
        "id": "tZtCmpD_5C2w"
      },
      "source": [
        "The training model is created using 'lbfgs' solver because dataset isn't so large, 'logistic' activation function, 3000 epochs,  shuffling the data\n",
        "\n",
        "El modelo de entrenamiento es creado usando el solucionador 'lbfgs' debido a que el conjunto de dato no es tan extenso,300 épocas y barajando los daos"
      ]
    },
    {
      "cell_type": "code",
      "metadata": {
        "id": "QgYFi2hJ5Dsw"
      },
      "source": [
        "clf = MLPClassifier(random_state=1, max_iter=3000,solver='lbfgs',shuffle=True,activation='logistic',verbose=True).fit(X, y)"
      ],
      "execution_count": null,
      "outputs": []
    },
    {
      "cell_type": "markdown",
      "metadata": {
        "id": "0Y54pMEF6Jac"
      },
      "source": [
        "This section create the mesh to plot considering a point above maximum value and  a point below minimum value\n",
        "\n",
        "Se crea  el plano para graficar considerando un punto por encima del valor máximo y uno por debajo del valor mínimo"
      ]
    },
    {
      "cell_type": "code",
      "metadata": {
        "id": "m3dvKnk26KIy"
      },
      "source": [
        "h = .02  # step size in the mesh/Tamaño cuadricula en el plano\n",
        "# create a mesh to plot in/ Se crea el plano para graficar\n",
        "x_min, x_max = X[:, 0].min() - 1, X[:, 0].max() + 1\n",
        "y_min, y_max = X[:, 1].min() - 1, X[:, 1].max() + 1\n",
        "xx, yy = np.meshgrid(np.arange(x_min, x_max, h),\n",
        "                     np.arange(y_min, y_max, h))\n"
      ],
      "execution_count": null,
      "outputs": []
    },
    {
      "cell_type": "markdown",
      "metadata": {
        "id": "dG6f-t2D8WOn"
      },
      "source": [
        "The boundary decision is created, a color is assigned to each class  and putting the result in a color plot\n",
        "\n",
        "La frontera de decisión es creada, un color es asignado a cada clase y colocando el resultado en una gráica a color "
      ]
    },
    {
      "cell_type": "code",
      "metadata": {
        "id": "xCkgVjBo8W9l",
        "colab": {
          "base_uri": "https://localhost:8080/",
          "height": 281
        },
        "outputId": "5a2ab42e-691e-44bc-8cd9-129d5afefbec"
      },
      "source": [
        "Z = clf.predict(np.c_[xx.ravel(), yy.ravel()])\n",
        "Z = Z.reshape(xx.shape)\n",
        "cs = plt.contourf(xx, yy, Z, cmap=plt.cm.Paired)\n",
        "plt.axis('tight')\n",
        "\n",
        "\n",
        "\n",
        "'''The training points are plotted'''\n",
        "\n",
        "for i, color in zip(clf.classes_, colors):\n",
        "    idx = np.where(y == i)\n",
        "    plt.scatter(X[idx, 0], X[idx, 1], c=color, label=iris.target_names[i],\n",
        "                cmap=plt.cm.Paired, edgecolor='black', s=20)\n",
        "plt.title(\"Decision surface of multi-class SGD\")\n",
        "plt.axis('tight')\n",
        "plt.legend()\n",
        "plt.show()"
      ],
      "execution_count": null,
      "outputs": [
        {
          "output_type": "display_data",
          "data": {
            "image/png": "[encoded data removed]",
            "text/plain": [
              "<Figure size 432x288 with 1 Axes>"
            ]
          },
          "metadata": {
            "tags": [],
            "needs_background": "light"
          }
        }
      ]
    }
  ]
}