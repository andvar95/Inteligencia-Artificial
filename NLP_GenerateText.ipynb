{
  "nbformat": 4,
  "nbformat_minor": 0,
  "metadata": {
    "colab": {
      "name": "GenerateText.ipynb",
      "provenance": [],
      "collapsed_sections": [
        "S0UlEGBxizlI",
        "trOafECZliWj",
        "jSEqLytBoIBU",
        "sp8kj5_JeK2t",
        "9uH9o8gkguew",
        "sHcHYOejIWVZ",
        "SQxZGPebM0HE",
        "kOQAiVSKkzDx",
        "aQngcbT5dzGO"
      ],
      "toc_visible": true,
      "authorship_tag": "ABX9TyMqO70o7af+o4KgRwEj9HRU",
      "include_colab_link": true
    },
    "kernelspec": {
      "name": "python3",
      "display_name": "Python 3"
    }
  },
  "cells": [
    {
      "cell_type": "markdown",
      "metadata": {
        "id": "view-in-github",
        "colab_type": "text"
      },
      "source": [
        "<a href=\"https://colab.research.google.com/github/andvar95/Inteligencia-Artificial/blob/main/NLP_GenerateText.ipynb\" target=\"_parent\"><img src=\"https://colab.research.google.com/assets/colab-badge.svg\" alt=\"Open In Colab\"/></a>"
      ]
    },
    {
      "cell_type": "markdown",
      "metadata": {
        "id": "S0UlEGBxizlI"
      },
      "source": [
        "#librerias"
      ]
    },
    {
      "cell_type": "code",
      "metadata": {
        "id": "jjxgyL6ciniw"
      },
      "source": [
        "import tensorflow as tf\n",
        "import numpy as np \n",
        "import os \n",
        "import time\n",
        "from tensorflow.keras.layers.experimental import preprocessing"
      ],
      "execution_count": null,
      "outputs": []
    },
    {
      "cell_type": "markdown",
      "metadata": {
        "id": "bdFBnSwMjVa3"
      },
      "source": [
        "Downliading Shakespeare dataset"
      ]
    },
    {
      "cell_type": "code",
      "metadata": {
        "id": "v68eQWY2ja4-"
      },
      "source": [
        "path_to_file = tf.keras.utils.get_file('shakespeare.txt','https://storage.googleapis.com/download.tensorflow.org/data/shakespeare.txt')"
      ],
      "execution_count": null,
      "outputs": []
    },
    {
      "cell_type": "markdown",
      "metadata": {
        "id": "ROJcmPiGj1BI"
      },
      "source": [
        "Looking the text"
      ]
    },
    {
      "cell_type": "code",
      "metadata": {
        "colab": {
          "base_uri": "https://localhost:8080/"
        },
        "id": "Wh2fPpuAj4j7",
        "outputId": "b7c2873b-5438-46e0-d83a-301c93a77e15"
      },
      "source": [
        "#Read, then decode for py2 compat.\n",
        "text = open(path_to_file,'rb').read().decode(encoding='UTF-8')\n",
        "#length of text the numbrs of characers in it\n",
        "print('Length of text: {} characters'.format(len(text)))"
      ],
      "execution_count": null,
      "outputs": [
        {
          "output_type": "stream",
          "text": [
            "Length of text: 1115394 characters\n"
          ],
          "name": "stdout"
        }
      ]
    },
    {
      "cell_type": "code",
      "metadata": {
        "colab": {
          "base_uri": "https://localhost:8080/"
        },
        "id": "HMsypYhZlEOJ",
        "outputId": "259a41f3-dcd0-4a10-bb0e-2fc3d1f3b5cf"
      },
      "source": [
        "#The unique characters in the file\n",
        "vocab = sorted(set(text))\n",
        "print('{} unique characters'.format(len(vocab)))\n"
      ],
      "execution_count": null,
      "outputs": [
        {
          "output_type": "stream",
          "text": [
            "65 unique characters\n"
          ],
          "name": "stdout"
        }
      ]
    },
    {
      "cell_type": "markdown",
      "metadata": {
        "id": "trOafECZliWj"
      },
      "source": [
        "#Process Text-Vectorize text\n",
        "\n",
        "Before training, you need convert the strings to a numerical representation\n",
        "\n",
        "preprocessing.StringLoopkup layer can convert each char in a numeric ID. It just needs the text to be split into token first."
      ]
    },
    {
      "cell_type": "code",
      "metadata": {
        "id": "nzK03sgQmDoz"
      },
      "source": [
        "idx_from_chars = preprocessing.StringLookup(\n",
        "    vocabulary=list(vocab)\n",
        ")\n",
        "\n",
        "char_from_idx = tf.keras.layers.experimental.preprocessing.StringLookup(\n",
        "    vocabulary=idx_from_chars.get_vocabulary(),invert=True\n",
        ")"
      ],
      "execution_count": null,
      "outputs": []
    },
    {
      "cell_type": "markdown",
      "metadata": {
        "id": "jSEqLytBoIBU"
      },
      "source": [
        "#Prediction Task\n",
        "\n",
        "Given a characters or a sequence of them, what's the most probable next character? \n",
        "\n",
        "The input will be a sequence of characters, and you train to predict the output-the following characters at each time step\n",
        "\n",
        "RNN maintain an internal state that depends on previously seen elements, given all characters computed until this moment, what's the next?\n",
        "\n",
        "#Creating training Example and target\n",
        "\n",
        "Next divide the text sequence. Each input will contain seq_length charters from the text.\n",
        "\n",
        "The corresponding targts contain the same length of text, except shifted one character to the right \n",
        "\n",
        "In the text \"Hello\"\n",
        "\n",
        "Input -> \"Hell\"\n",
        "Output -> \"ello\"\n",
        "\n",
        "To do this first use **tf.data.Dataset.from_tensor_slices** function to convert the text vector into a stream of character indices"
      ]
    },
    {
      "cell_type": "code",
      "metadata": {
        "colab": {
          "base_uri": "https://localhost:8080/"
        },
        "id": "JSBNd2IzntKg",
        "outputId": "17db6fb7-da47-4ea0-b9e7-715e87c16f1f"
      },
      "source": [
        "all_idx = idx_from_chars(tf.strings.unicode_split(text,'UTF-8'))\n",
        "all_idx"
      ],
      "execution_count": null,
      "outputs": [
        {
          "output_type": "execute_result",
          "data": {
            "text/plain": [
              "<tf.Tensor: shape=(1115394,), dtype=int64, numpy=array([20, 49, 58, ..., 47, 10,  2])>"
            ]
          },
          "metadata": {
            "tags": []
          },
          "execution_count": 43
        }
      ]
    },
    {
      "cell_type": "code",
      "metadata": {
        "id": "5v0DApfSrQd5"
      },
      "source": [
        "idx_dataset = tf.data.Dataset.from_tensor_slices(all_idx)"
      ],
      "execution_count": null,
      "outputs": []
    },
    {
      "cell_type": "code",
      "metadata": {
        "colab": {
          "base_uri": "https://localhost:8080/"
        },
        "id": "ru5XfDm8rhAQ",
        "outputId": "cc34cb42-6dd5-4237-a8e7-cb211f5b7c3b"
      },
      "source": [
        "for idx in idx_dataset.take(10):\n",
        "  print(char_from_idx(idx).numpy().decode('utf-8'))"
      ],
      "execution_count": null,
      "outputs": [
        {
          "output_type": "stream",
          "text": [
            "F\n",
            "i\n",
            "r\n",
            "s\n",
            "t\n",
            " \n",
            "C\n",
            "i\n",
            "t\n",
            "i\n"
          ],
          "name": "stdout"
        }
      ]
    },
    {
      "cell_type": "code",
      "metadata": {
        "id": "zBECelwysZfL"
      },
      "source": [
        "seq_length = 100\n",
        "samples_per_epoch = len(text)//(seq_length+1)"
      ],
      "execution_count": null,
      "outputs": []
    },
    {
      "cell_type": "markdown",
      "metadata": {
        "id": "suzjhITFsnMO"
      },
      "source": [
        "The **batch** method lets you convert these individual characters to sequences of the desired size"
      ]
    },
    {
      "cell_type": "code",
      "metadata": {
        "colab": {
          "base_uri": "https://localhost:8080/"
        },
        "id": "u2zndq8ks4p8",
        "outputId": "3bd141f1-6323-4453-cb57-11b2e0fb6636"
      },
      "source": [
        "sequences = idx_dataset.batch(seq_length+1,drop_remainder=True)\n",
        "\n",
        "for seq in sequences.take(1):\n",
        "  print(char_from_idx(seq))"
      ],
      "execution_count": null,
      "outputs": [
        {
          "output_type": "stream",
          "text": [
            "tf.Tensor(\n",
            "[b'F' b'i' b'r' b's' b't' b' ' b'C' b'i' b't' b'i' b'z' b'e' b'n' b':'\n",
            " b'\\n' b'B' b'e' b'f' b'o' b'r' b'e' b' ' b'w' b'e' b' ' b'p' b'r' b'o'\n",
            " b'c' b'e' b'e' b'd' b' ' b'a' b'n' b'y' b' ' b'f' b'u' b'r' b't' b'h'\n",
            " b'e' b'r' b',' b' ' b'h' b'e' b'a' b'r' b' ' b'm' b'e' b' ' b's' b'p'\n",
            " b'e' b'a' b'k' b'.' b'\\n' b'\\n' b'A' b'l' b'l' b':' b'\\n' b'S' b'p' b'e'\n",
            " b'a' b'k' b',' b' ' b's' b'p' b'e' b'a' b'k' b'.' b'\\n' b'\\n' b'F' b'i'\n",
            " b'r' b's' b't' b' ' b'C' b'i' b't' b'i' b'z' b'e' b'n' b':' b'\\n' b'Y'\n",
            " b'o' b'u' b' '], shape=(101,), dtype=string)\n"
          ],
          "name": "stdout"
        }
      ]
    },
    {
      "cell_type": "code",
      "metadata": {
        "colab": {
          "base_uri": "https://localhost:8080/"
        },
        "id": "fs1IbjcYtmJH",
        "outputId": "de700e05-3f62-4b73-e2b1-85b379d4c5a9"
      },
      "source": [
        "def text_from_idx(idx):\n",
        "  return tf.strings.reduce_join(char_from_idx(idx),axis=-1)\n",
        "\n",
        "for seq in sequences.take(5):\n",
        "  print(text_from_idx(seq).numpy())"
      ],
      "execution_count": null,
      "outputs": [
        {
          "output_type": "stream",
          "text": [
            "b'First Citizen:\\nBefore we proceed any further, hear me speak.\\n\\nAll:\\nSpeak, speak.\\n\\nFirst Citizen:\\nYou '\n",
            "b'are all resolved rather to die than to famish?\\n\\nAll:\\nResolved. resolved.\\n\\nFirst Citizen:\\nFirst, you k'\n",
            "b\"now Caius Marcius is chief enemy to the people.\\n\\nAll:\\nWe know't, we know't.\\n\\nFirst Citizen:\\nLet us ki\"\n",
            "b\"ll him, and we'll have corn at our own price.\\nIs't a verdict?\\n\\nAll:\\nNo more talking on't; let it be d\"\n",
            "b'one: away, away!\\n\\nSecond Citizen:\\nOne word, good citizens.\\n\\nFirst Citizen:\\nWe are accounted poor citi'\n"
          ],
          "name": "stdout"
        }
      ]
    },
    {
      "cell_type": "markdown",
      "metadata": {
        "id": "DaVC38JkudWh"
      },
      "source": [
        "Now, we will create the function to generate train and label"
      ]
    },
    {
      "cell_type": "code",
      "metadata": {
        "colab": {
          "base_uri": "https://localhost:8080/"
        },
        "id": "F4AEU5aout0x",
        "outputId": "96875ea7-f856-4359-9b52-2cb929ccbdc7"
      },
      "source": [
        "def split_input_target(sequence):\n",
        "  input_text = sequence[:-1]\n",
        "  target_text = sequence[1:]\n",
        "  return input_text,target_text\n",
        "\n",
        "split_input_target(list('Tensorflow'))"
      ],
      "execution_count": null,
      "outputs": [
        {
          "output_type": "execute_result",
          "data": {
            "text/plain": [
              "(['T', 'e', 'n', 's', 'o', 'r', 'f', 'l', 'o'],\n",
              " ['e', 'n', 's', 'o', 'r', 'f', 'l', 'o', 'w'])"
            ]
          },
          "metadata": {
            "tags": []
          },
          "execution_count": 49
        }
      ]
    },
    {
      "cell_type": "code",
      "metadata": {
        "id": "EDDnZ8CSvRhu"
      },
      "source": [
        "dataset = sequences.map(split_input_target)"
      ],
      "execution_count": null,
      "outputs": []
    },
    {
      "cell_type": "code",
      "metadata": {
        "colab": {
          "base_uri": "https://localhost:8080/"
        },
        "id": "4oKKqDcdvWub",
        "outputId": "772a19a3-5441-4357-a88a-fa53561680a0"
      },
      "source": [
        "for input,target in dataset.take(1):\n",
        "  print(\"Input :\",text_from_idx(input).numpy())\n",
        "  print(\"Target:\",text_from_idx(target).numpy())"
      ],
      "execution_count": null,
      "outputs": [
        {
          "output_type": "stream",
          "text": [
            "Input : b'First Citizen:\\nBefore we proceed any further, hear me speak.\\n\\nAll:\\nSpeak, speak.\\n\\nFirst Citizen:\\nYou'\n",
            "Target: b'irst Citizen:\\nBefore we proceed any further, hear me speak.\\n\\nAll:\\nSpeak, speak.\\n\\nFirst Citizen:\\nYou '\n"
          ],
          "name": "stdout"
        }
      ]
    },
    {
      "cell_type": "markdown",
      "metadata": {
        "id": "sp8kj5_JeK2t"
      },
      "source": [
        "#Create training batches\n",
        "\n",
        "Before feeding the data into model, it's needed to shuffle the data and pack it into batches"
      ]
    },
    {
      "cell_type": "code",
      "metadata": {
        "colab": {
          "base_uri": "https://localhost:8080/"
        },
        "id": "soGWz9jSeg6E",
        "outputId": "e5181a93-4afe-4ac5-d951-e6d15d33ef16"
      },
      "source": [
        "#Batch Size\n",
        "\n",
        "BATCH_SIZE = 64\n",
        "\n",
        "#Buffer size to shuffle the dataet\n",
        "#TF data is designed to work with infite sequennces\n",
        "#It doesn't attempt to shuffle the entire sequences in memory\n",
        "#It maintains a buffer in wich it shuffle elements\n",
        "\n",
        "BUFFER_SIZE = 10000\n",
        "\n",
        "dataset = (\n",
        "    dataset\n",
        "    .shuffle(BUFFER_SIZE)\n",
        "    .batch(BATCH_SIZE, drop_remainder=True)\n",
        "    .prefetch(tf.data.experimental.AUTOTUNE)\n",
        ")\n",
        "\n",
        "dataset"
      ],
      "execution_count": null,
      "outputs": [
        {
          "output_type": "execute_result",
          "data": {
            "text/plain": [
              "<PrefetchDataset shapes: ((64, 100), (64, 100)), types: (tf.int64, tf.int64)>"
            ]
          },
          "metadata": {
            "tags": []
          },
          "execution_count": 52
        }
      ]
    },
    {
      "cell_type": "markdown",
      "metadata": {
        "id": "9uH9o8gkguew"
      },
      "source": [
        "#Build the Model\n",
        "\n",
        "This section defines the models as a keras.mode sub class \n",
        "\n",
        "This model has three layers:\n",
        "\n",
        "tf.keras.layers.Embedding: The input layer. A trainable lookup table that will map each char-ID to a vector with embedding_dim dimensiones\n",
        "\n",
        "tf.keras.layers.GRU: A type of RNN size units = rnn_units (You can also use a LSTM)\n",
        "\n",
        "tf.keras.layers.Dense: The output, with vocab_size outputs. It outputs one logit for each char in vocabulary. These re the log-liklihood of each characters accoeding to the model. "
      ]
    },
    {
      "cell_type": "code",
      "metadata": {
        "id": "gwoYlJC6hzoj"
      },
      "source": [
        "#length of the vocabulary in chars\n",
        "vocab_size = len(vocab)\n",
        "\n",
        "\n",
        "#The embedding dimensiones\n",
        "embedding_dim = 256\n",
        "\n",
        "#Number of RNN units\n",
        "rnn_units = 1024"
      ],
      "execution_count": null,
      "outputs": []
    },
    {
      "cell_type": "code",
      "metadata": {
        "id": "hJtI-yORiGCg"
      },
      "source": [
        "class MyModel(tf.keras.Model):\n",
        "  def __init__(self,vocab_size,embedding_dim,rnn_units):\n",
        "    super().__init__(self)\n",
        "    self.embedding= tf.keras.layers.Embedding(vocab_size,embedding_dim)\n",
        "    self.gru = tf.keras.layers.GRU(rnn_units,\n",
        "                                   return_sequences=True,\n",
        "                                   return_state=True)\n",
        "    self.dense = tf.keras.layers.Dense(vocab_size)\n",
        "  def call(self,inputs,states=None,return_state=False,training=False):\n",
        "    x = inputs\n",
        "    x = self.embedding(x, training=training)\n",
        "    if states is None:\n",
        "      states = self.gru.get_initial_state(x)\n",
        "    x, states = self.gru(x, initial_state = states,training=training)\n",
        "    x = self.dense(x,training=training)\n",
        "    if return_state:\n",
        "      return x,states\n",
        "    else:\n",
        "      return x"
      ],
      "execution_count": null,
      "outputs": []
    },
    {
      "cell_type": "code",
      "metadata": {
        "id": "OcTYtJNnkiqZ"
      },
      "source": [
        "model = MyModel(\n",
        "    \n",
        "    vocab_size = len(idx_from_chars.get_vocabulary()),\n",
        "    embedding_dim = embedding_dim,rnn_units= rnn_units)"
      ],
      "execution_count": null,
      "outputs": []
    },
    {
      "cell_type": "markdown",
      "metadata": {
        "id": "n6Z0HG3KHofC"
      },
      "source": [
        "For each character the model looks up the embebdding, runs de the GRU with embedding as input, and applies the debse layer to generate logits predicting the log-likelihood of the next character\n",
        "\n",
        "![image.png](data:image/png;base64,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)\n"
      ]
    },
    {
      "cell_type": "markdown",
      "metadata": {
        "id": "sHcHYOejIWVZ"
      },
      "source": [
        "#Try the model\n",
        "\n",
        "Now run the model to see that it behaves as expect\n",
        "\n",
        "First check the shape of the output"
      ]
    },
    {
      "cell_type": "code",
      "metadata": {
        "colab": {
          "base_uri": "https://localhost:8080/"
        },
        "id": "b5N5mGlUIQ3_",
        "outputId": "dc333e83-f132-4dbc-a0ac-c1a3cb5c1b3c"
      },
      "source": [
        "for input_example_batch,target_example_batch in dataset.take(1):\n",
        "  example_batch_predictions = model(input_example_batch)\n",
        "  print(example_batch_predictions.shape, \"# (batch_size, sequence_length, vocab_size\")"
      ],
      "execution_count": null,
      "outputs": [
        {
          "output_type": "stream",
          "text": [
            "(64, 100, 67) # (batch_size, sequence_length, vocab_size\n"
          ],
          "name": "stdout"
        }
      ]
    },
    {
      "cell_type": "markdown",
      "metadata": {
        "id": "sg69NSMIJNj4"
      },
      "source": [
        "In the above example the sequences length of input es 100 but the model can be run on inputs of any length"
      ]
    },
    {
      "cell_type": "code",
      "metadata": {
        "colab": {
          "base_uri": "https://localhost:8080/"
        },
        "id": "PUqftfY-KvEI",
        "outputId": "4b34354b-3448-4217-a1a3-409231af0f09"
      },
      "source": [
        "model.summary()"
      ],
      "execution_count": null,
      "outputs": [
        {
          "output_type": "stream",
          "text": [
            "Model: \"my_model_3\"\n",
            "_________________________________________________________________\n",
            "Layer (type)                 Output Shape              Param #   \n",
            "=================================================================\n",
            "embedding_3 (Embedding)      multiple                  17152     \n",
            "_________________________________________________________________\n",
            "gru_3 (GRU)                  multiple                  3938304   \n",
            "_________________________________________________________________\n",
            "dense_3 (Dense)              multiple                  68675     \n",
            "=================================================================\n",
            "Total params: 4,024,131\n",
            "Trainable params: 4,024,131\n",
            "Non-trainable params: 0\n",
            "_________________________________________________________________\n"
          ],
          "name": "stdout"
        }
      ]
    },
    {
      "cell_type": "markdown",
      "metadata": {
        "id": "DY57I7xpLAYC"
      },
      "source": [
        "To get teh actual precitions from the model you need to sample from output destribution, to get the actual indices. The distribution es defined by the logits over the character vocabulary"
      ]
    },
    {
      "cell_type": "markdown",
      "metadata": {
        "id": "FqK0fNDPLSxQ"
      },
      "source": [
        "First example in the batch"
      ]
    },
    {
      "cell_type": "code",
      "metadata": {
        "id": "mbHupT-mLoj-"
      },
      "source": [
        "sampled_indices = tf.random.categorical(example_batch_predictions[0],num_samples=1)\n",
        "sampled_indices = tf.squeeze(sampled_indices,axis=-1)"
      ],
      "execution_count": null,
      "outputs": []
    },
    {
      "cell_type": "code",
      "metadata": {
        "colab": {
          "base_uri": "https://localhost:8080/"
        },
        "id": "mu1Yh04nMFP0",
        "outputId": "0c2511bc-a9bb-4247-c565-f40144dc6e0c"
      },
      "source": [
        "sampled_indices"
      ],
      "execution_count": null,
      "outputs": [
        {
          "output_type": "execute_result",
          "data": {
            "text/plain": [
              "<tf.Tensor: shape=(100,), dtype=int64, numpy=\n",
              "array([15,  9, 20,  3, 42, 19, 29, 11, 28,  1, 30, 28, 64, 56, 13, 27, 27,\n",
              "       40, 48,  0,  1, 55, 18, 37, 14, 53, 42, 35, 21, 25,  0, 41, 57, 64,\n",
              "       65, 35, 21, 44, 38,  7, 60, 24, 49, 42, 47, 30, 57, 33,  0, 18,  0,\n",
              "       55, 18, 48, 63, 13, 62, 61, 61, 38, 16, 66, 41,  3, 47, 25, 50, 58,\n",
              "       44, 59, 55, 29, 50, 65, 36,  7, 52, 35,  2, 16, 22, 46,  1, 11,  9,\n",
              "       15, 11, 53, 34, 54, 24,  8, 47, 36, 27, 47, 16, 32, 48, 32])>"
            ]
          },
          "metadata": {
            "tags": []
          },
          "execution_count": 67
        }
      ]
    },
    {
      "cell_type": "markdown",
      "metadata": {
        "id": "CqjIfnAYMNyE"
      },
      "source": [
        "Decode these to see the text predicted by hus untrained model"
      ]
    },
    {
      "cell_type": "code",
      "metadata": {
        "colab": {
          "base_uri": "https://localhost:8080/"
        },
        "id": "rzFBJc_6MT48",
        "outputId": "cf8984c1-d0c6-4e54-edb4-3416f63e2915"
      },
      "source": [
        "print(\"Input:\\n\",text_from_idx(input_example_batch[0]).numpy())\n",
        "print(\"Output:\\n\",text_from_idx(sampled_indices).numpy())"
      ],
      "execution_count": null,
      "outputs": [
        {
          "output_type": "stream",
          "text": [
            "Input:\n",
            " b'hich is yours.\\n\\nYORK:\\nMine boy? not till King Henry be dead.\\n\\nRICHARD:\\nYour right depends not on his'\n",
            "Output:\n",
            " b\"A-F bEO3N[UNK]PNxp;MMZh[UNK]oDW?mbUGKaqxyUGdX'tJibgPqSDoDhw;vuuXBza gKjrdsoOjyV'lU\\nBHf[UNK]3-A3mTnJ,gVMgBRhR\"\n"
          ],
          "name": "stdout"
        }
      ]
    },
    {
      "cell_type": "markdown",
      "metadata": {
        "id": "SQxZGPebM0HE"
      },
      "source": [
        "#Train Model\n",
        "\n",
        "At this point the problem  can be treated as a treated as a standard classification problem. Given the previous RNN state, and the input this time step, predict the class of the next character.\n",
        "\n",
        "#Attach an optimizer, and a loss function\n",
        "\n",
        "The standard tf.keras.losses.sparse_categorical_crossentropy loss function works in this case because it is applied across the last dimension of the predictions \n",
        "\n",
        "Because your model return logits, you need to set the from_logits flag. "
      ]
    },
    {
      "cell_type": "code",
      "metadata": {
        "id": "Pamn8afNOhkT"
      },
      "source": [
        "loss = tf.losses.SparseCategoricalCrossentropy(from_logits=True)"
      ],
      "execution_count": null,
      "outputs": []
    },
    {
      "cell_type": "code",
      "metadata": {
        "colab": {
          "base_uri": "https://localhost:8080/"
        },
        "id": "H3m2F4wDOpye",
        "outputId": "39a288e8-4a81-405a-a533-c5a11b1cb616"
      },
      "source": [
        "example_batch_loss = loss(target_example_batch,example_batch_predictions)\n",
        "mean_loss = example_batch_loss.numpy().mean()\n",
        "print(\"Prediction shape: \", example_batch_predictions.shape)\n",
        "print(\"Mean loss: \",mean_loss)"
      ],
      "execution_count": null,
      "outputs": [
        {
          "output_type": "stream",
          "text": [
            "Prediction shape:  (64, 100, 67)\n",
            "Mean loss:  4.204318\n"
          ],
          "name": "stdout"
        }
      ]
    },
    {
      "cell_type": "markdown",
      "metadata": {
        "id": "CxpJHdIkPRX_"
      },
      "source": [
        "A newly initialized odel shouldn't be too sure of itself, the output logits should all have similar magnitudes. To confirm this you can check that the exponenetial of the meain loss is approximately equal to the vocabulary size. A much higher loss mean the model is sure of its wrong ansers, and is badly initialized"
      ]
    },
    {
      "cell_type": "code",
      "metadata": {
        "colab": {
          "base_uri": "https://localhost:8080/"
        },
        "id": "nhXswK01Pwqd",
        "outputId": "43ad8e52-d2a7-46e0-8d2f-edfb7930a797"
      },
      "source": [
        "tf.exp(mean_loss).numpy()"
      ],
      "execution_count": null,
      "outputs": [
        {
          "output_type": "execute_result",
          "data": {
            "text/plain": [
              "66.97491"
            ]
          },
          "metadata": {
            "tags": []
          },
          "execution_count": 71
        }
      ]
    },
    {
      "cell_type": "code",
      "metadata": {
        "id": "PdtD5LiwP4cN"
      },
      "source": [
        "model.compile(optimizer='adam',loss=loss)"
      ],
      "execution_count": null,
      "outputs": []
    },
    {
      "cell_type": "code",
      "metadata": {
        "id": "kMtTXH64QP0e"
      },
      "source": [
        "#Directory where the checkpoints will be saved\n",
        "checkpoint_dir = './training_checkpoints'\n",
        "\n",
        "#Name of the checkpoints files\n",
        "checkpoint_prefix = os.path.join(checkpoint_dir,\"ckpt_{epoch}\")\n",
        "\n",
        "checkpoint_callbacks = tf.keras.callbacks.ModelCheckpoint(\n",
        "    filepath= checkpoint_prefix,\n",
        "    save_weights_only = True\n",
        ")"
      ],
      "execution_count": null,
      "outputs": []
    },
    {
      "cell_type": "code",
      "metadata": {
        "colab": {
          "base_uri": "https://localhost:8080/"
        },
        "id": "CPjsUiSBQ9Bv",
        "outputId": "2b86b2c1-5412-4b3e-8942-85ec5e958acf"
      },
      "source": [
        "history  = model.fit(dataset, epochs=20, callbacks=[checkpoint_callbacks])"
      ],
      "execution_count": null,
      "outputs": [
        {
          "output_type": "stream",
          "text": [
            "Epoch 1/20\n",
            "172/172 [==============================] - 882s 5s/step - loss: 3.3406\n",
            "Epoch 2/20\n",
            "172/172 [==============================] - 886s 5s/step - loss: 2.0930\n",
            "Epoch 3/20\n",
            "172/172 [==============================] - 888s 5s/step - loss: 1.7782\n",
            "Epoch 4/20\n",
            "172/172 [==============================] - 886s 5s/step - loss: 1.5833\n",
            "Epoch 5/20\n",
            "172/172 [==============================] - 882s 5s/step - loss: 1.4723\n",
            "Epoch 6/20\n",
            "172/172 [==============================] - 893s 5s/step - loss: 1.3925\n",
            "Epoch 7/20\n",
            "172/172 [==============================] - 889s 5s/step - loss: 1.3350\n",
            "Epoch 8/20\n",
            "172/172 [==============================] - 882s 5s/step - loss: 1.2882\n",
            "Epoch 9/20\n",
            "172/172 [==============================] - 875s 5s/step - loss: 1.2413\n",
            "Epoch 10/20\n",
            "172/172 [==============================] - 873s 5s/step - loss: 1.1989\n",
            "Epoch 11/20\n",
            "172/172 [==============================] - 877s 5s/step - loss: 1.1586\n",
            "Epoch 12/20\n",
            "172/172 [==============================] - 879s 5s/step - loss: 1.1141\n",
            "Epoch 13/20\n",
            "172/172 [==============================] - 871s 5s/step - loss: 1.0720\n",
            "Epoch 14/20\n",
            "172/172 [==============================] - 872s 5s/step - loss: 1.0246\n",
            "Epoch 15/20\n",
            "172/172 [==============================] - 866s 5s/step - loss: 0.9741\n",
            "Epoch 16/20\n",
            "172/172 [==============================] - 868s 5s/step - loss: 0.9196\n",
            "Epoch 17/20\n",
            "172/172 [==============================] - 858s 5s/step - loss: 0.8689\n",
            "Epoch 18/20\n",
            "172/172 [==============================] - 839s 5s/step - loss: 0.8120\n",
            "Epoch 19/20\n",
            "172/172 [==============================] - 840s 5s/step - loss: 0.7594\n",
            "Epoch 20/20\n",
            "172/172 [==============================] - 840s 5s/step - loss: 0.7110\n"
          ],
          "name": "stdout"
        }
      ]
    },
    {
      "cell_type": "markdown",
      "metadata": {
        "id": "kOQAiVSKkzDx"
      },
      "source": [
        "#Generate the Text\n",
        "\n",
        "The simplest way to generate text with this model is to run it in a loop, and keep track of the model's internal state as you execute it \n",
        "\n",
        "Each time you cal the model you pass in some text and and internal state. The model returns a prediction for the next character and its new state.Pass the prediction and state back  in to continue generating text \n",
        "\n",
        "The following makes a single step prediction\n",
        "\n",
        "\n",
        "\n"
      ]
    },
    {
      "cell_type": "code",
      "metadata": {
        "id": "A25tnIiemLi7"
      },
      "source": [
        "class OneStep(tf.keras.Model):\n",
        "  def __init__(self,model,chars_from_idx,idx_from_chards,temperature=1.0):\n",
        "    super().__init__()\n",
        "    self.temperature = temperature\n",
        "    self.model = model\n",
        "    self.chars_from_idx = chars_from_idx\n",
        "    self.idx_from_chars =  idx_from_chars\n",
        "\n",
        "    #create a mask to prevent \" \" or \"[UNK]\" from being generated\n",
        "    skip_ids = self.idx_from_chars(['','[UNK]'])[:,None]\n",
        "    sparse_mask = tf.SparseTensor(\n",
        "        #Put a -inf at each bad index\n",
        "        values=[-float('inf')]*len(skip_ids),\n",
        "        indices = skip_ids,\n",
        "        dense_shape=[len(idx_from_chars.get_vocabulary())])\n",
        "    self.prediction_mask = tf.sparse.to_dense(sparse_mask)\n",
        "  @tf.function\n",
        "  def generate_one_step(self,inputs,states=None):\n",
        "    #convert string to toekn IDS\n",
        "    input_chars = tf.strings.unicode_split(inputs,'UTF-8')\n",
        "    input_ids = self.idx_from_chars(input_chars).to_tensor()\n",
        "    \n",
        "    #RUN THE MODEL \n",
        "    #Predicted_logits.shape is [batch,char,next_char_logits]\n",
        "    predicted_logits , states = self.model(inputs=input_ids,states=states,\n",
        "                                            return_state=True)\n",
        "\n",
        "    #Only use the last prediction\n",
        "    predicted_logits = predicted_logits[:,-1,:]\n",
        "    predicted_logits = predicted_logits/self.temperature\n",
        "\n",
        "    #Apply the prediction mask: prevent \"\" or \"[UNK]\" from being generated\n",
        "    predicted_logits = predicted_logits + self.prediction_mask\n",
        "\n",
        "    #sample the output logits to generate token IDS\n",
        "    predicted_ids = tf.random.categorical(predicted_logits, num_samples=1)\n",
        "    predicted_ids = tf.squeeze(predicted_ids, axis=-1)\n",
        "\n",
        "    #converto from token ids to character\n",
        "    predicted_chards = self.chars_from_idx(predicted_ids)\n",
        "\n",
        "    #Return the character and model state\n",
        "    return predicted_chards, states"
      ],
      "execution_count": null,
      "outputs": []
    },
    {
      "cell_type": "code",
      "metadata": {
        "id": "b-A1Ken5q0bx"
      },
      "source": [
        "one_step_model = OneStep(model,char_from_idx,idx_from_chars)"
      ],
      "execution_count": null,
      "outputs": []
    },
    {
      "cell_type": "markdown",
      "metadata": {
        "id": "h9HxM2rirE6x"
      },
      "source": [
        "Run it in a loop to generate some text. Looking at the generated text, you'll see the model knows when to capitalize, make paragraphs and imitates a Shakespeare-like writting vocabulary. With the small number of training epochs, it has not yet learned to form coherent sentences."
      ]
    },
    {
      "cell_type": "code",
      "metadata": {
        "colab": {
          "base_uri": "https://localhost:8080/"
        },
        "id": "0jbb-ZwNVd1X",
        "outputId": "6234e0d9-3559-4815-8629-14b489d66e81"
      },
      "source": [
        "start = time.time()\n",
        "states = None\n",
        "next_char = tf.constant(['ROMEO:'])\n",
        "result = [next_char]\n",
        "\n",
        "for n in range(1000):\n",
        "\n",
        "  next_char, states = one_step_model.generate_one_step(next_char,states= states)\n",
        "  result.append(next_char)\n",
        "\n",
        "result = tf.strings.join(result)\n",
        "end = time.time()\n",
        "print(result[0].numpy().decode('utf-8'),'\\n\\n'+'_'*80)\n",
        "print(f\"\\nRun time: {end-start}\")"
      ],
      "execution_count": null,
      "outputs": [
        {
          "output_type": "stream",
          "text": [
            "ROMEO:\n",
            "Pardon me, good friend Lucio, till the priest and true Pisas with\n",
            "mine actors word, if any place which is great profane.\n",
            "\n",
            "Second Murderer:\n",
            "So force you, good merry, that's last.\n",
            "\n",
            "ISABELLA:\n",
            "Who told me, and if you love no gold? I thought\n",
            "I do then here are written that there next.\n",
            "\n",
            "BENVOLIO:\n",
            "It will ture forth to constract them! Vouchsaff, take that I\n",
            "say, poor wroting, come. What's their own children!\n",
            "Thou didst love farewell up rot of warrant.\n",
            "What, would the jest of this steel guilty my life?\n",
            "\n",
            "GLOUCESTER:\n",
            "And, by a man-keet my mother, thou,\n",
            "March'd, way if thine own great person all is sequent,\n",
            "Because is past out to be given thee,\n",
            "For now is fear'd, and half you look on all,\n",
            "That skin I was a bastard.\n",
            "Thy father laid were to a silence on the issue\n",
            "Of conduction of my throne,\n",
            "Will hund me with the chair can man that all have edopted\n",
            "He made a father's height to me.\n",
            "\n",
            "BUCKINGHAM:\n",
            "Even to the Volsces shall purchaste with me\n",
            "The blackery of my brother widow sister?\n",
            "\n",
            "KATHARY NORTH:\n",
            "If th \n",
            "\n",
            "________________________________________________________________________________\n",
            "\n",
            "Run time: 1.7283563613891602\n"
          ],
          "name": "stdout"
        }
      ]
    },
    {
      "cell_type": "markdown",
      "metadata": {
        "id": "dLu3TXIIbTA2"
      },
      "source": [
        "The easiest thing you can do to improve the results is to train it lor longer (30 EPOCHS)\n",
        "\n",
        "You can also experiment with a different start string, try adding another RNN Layer to improve the model's accuracy, or adjust the temperature parameter to generate more or less random predictions\n",
        "\n",
        "If you want the model to generate text *faster* the easiest thing you can do is batch text generation. In the example below the model can generates 5 outputs in about the same time it took to generate 1 above"
      ]
    },
    {
      "cell_type": "code",
      "metadata": {
        "colab": {
          "base_uri": "https://localhost:8080/"
        },
        "id": "8rMIMMjBrDjA",
        "outputId": "d2691246-a891-481a-d2d3-9eab877b07df"
      },
      "source": [
        "start = time.time()\n",
        "states = None\n",
        "next_char = tf.constant(['ROMEO: ','ROMEO:','ROMEO:','ROMEO:','ROMEO:'])\n",
        "result = [next_char]\n",
        "for n in range(1000):\n",
        "  next_char, states = one_step_model.generate_one_step(next_char,states=states)\n",
        "  result.append(next_char)\n",
        "result = tf.strings.join(result)\n",
        "end = time.time()\n",
        "\n",
        "print(result,'\\n\\n '+ '_'*80)\n",
        "\n",
        "print(f\"\\nRun time:{end-start}\")"
      ],
      "execution_count": null,
      "outputs": [
        {
          "output_type": "stream",
          "text": [
            "tf.Tensor(\n",
            "[b\"ROMEO: Grance, fool!--\\nFor not of ear too late?\\n\\nSICINIUS:\\nStay, let's all sworn to\\nHomonies to be a lady's face.\\nGood gentlemen, woman, whom we do calm them?\\nIs there no remedy! How often hast\\nshe was my father's cere? O chquir'd mother,\\nWe commune with a perly occadate as bear\\nRomeo to be quick.\\n\\nMENENIUS:\\nHang these and goodness of his polect\\nlors, as puralm thee, but by the way\\nto play at home with the slaughter,\\nOne relect, there cannot guess whose wrong.\\n\\nKING RICHARD II:\\nThat all already.\\n\\nBAPTISTA:\\nI must be well under these airs.\\n\\nAUTOLYCUS:\\nHa, ha' now, no kingdom Lord; whwere he old prevost,\\nAs rest the rest o' the yokence with the sacrament\\nto this be o'er.\\n\\nPOMPEY:\\nPray no monet, bold, your advice; you will be pleased\\nFor baiting with these forces of\\nYour days and patricians ignorance, which does,\\nClervolk, altogied toward tempest sound thus;\\nwhother at him of honour and obey?\\n\\nWARWICK:\\nSeizize him; hell hast! Sow I will plead authority to in all afore.\\nThis pile Menenius, learn \"\n",
            " b\"ROMEO:'st thou not, have you electied nigh;\\nBade for you, and as trial not appear,\\nThe very best benefful neighbours was beholding fools,\\nAnd all those off the high wildings,\\nAnd be wine and wandering where:\\nThis, by the way:\\nYour brother Richard hath been touch'd, I hope.\\n\\nQUEEN ELIZABETH:\\nSay that I see her.\\n\\nCAPULET:\\nMarry, that's out on her, Pompey.\\n\\nESCALUS:\\nLituous cherishiur marks. I hope, but not like the earth.\\n\\nFRIAR SET:\\nAnd men of question's Rome are warding.\\n\\nLEONTES:\\nWhat, marry, may I tell? as that foes he\\ndreams, he must be colled to? and these words yound Durt\\nAs many mourning dre smile word of them,\\n'Twas fair conceit, is he not sturn'd to me.\\n\\nLadY:\\nNay, brother, good master:\\nLook by a plot-belly, and set by they be contented:\\nIs it not only in powers from me and with\\nA ship, adorns against this wealth?\\nWhere one Warwick, redelp and queen.\\n\\nQUEEN MARGARET:\\nOft that my father had my bond we heard their harms.\\n\\nKING EDWARD IV:\\nWhat is himsel? We have quick, some thorny Jeck,\"\n",
            " b\"ROMEO:'\\nYour highness twoing-scornjuct comes.\\n\\nFirst Lady:\\nWhom Romeo's wife was had and went to credgn, bods.\\n\\nAUTOLYCUS:\\nWell, here, sir.\\n\\nLARTIG:\\nBlook you of ourselves, our kindness penitence.\\nThat's in my temper, but with deadly grace.\\n\\nDUCHESS OF Yord:\\nLook you, sir; you sooth me the very\\nrich lip on out: O, be it joints as you!\\n\\nDUKE VINCENTIO:\\nCome hither, you Volscian; go; and here remains\\nMy wife's colw arrived, all nig her lip.\\n\\nLady:\\nMadstates a charm,\\nWhen I am poor Byholio, whom write restriteth.\\nWhat's o'clock, they have ta'en not Pomfret, alas, that ever\\nTransportune. Here let right three.\\n\\nDUKE OF AUMERLE:\\nFurther, then cruel with\\nA them like sun shicing bitter cleans to eve.\\nAnd, lords, to keep him at the city but the wind\\nWhich been these rest ten thrirts is full tilth,\\nIn mine orders of his villaness;\\nHis name is quickly ambitiously, take the reinf\\nAnd made them borne up to the Capitol-pipable\\nRote shall be my wife to the yials room chafted to\\ndeliver yet reacy of her wit\"\n",
            " b\"ROMEO:!\\nWere these her for eyes had deturades to speak?\\nMethinks it were no living, peace.'\\n\\nFirst Senator:\\nNo more.\\n\\nPROSPERO:\\nBefere them, It is deserves.\\n\\nFirst Keeper:\\nAy, marry; Foriour Earl of Servineman:\\nNever, Provo!d!\\n\\nAEdile:\\nThere's no remedy but begins a discondy.\\n\\nISABELLA:\\nAy, but that ever thou spokest to-night.\\nLusty, in good occasion is retort: if they\\nshall have it your fincer you, lords, take expect her, were not\\nKings and tembers push another all their\\nbeauty: therefore I will hence to question'd\\nhoming: therefore I'll no longer dam\\nPronound i' the parlor field behove him\\nMight to a breast. I hope therefore at him--\\n\\nFirst Citizen:\\nWhy, there were her, and talk'd without deceasied,\\nAnd credling forth the head, and the wretched ballaws\\nAppear us from his report in this falling.\\nI see them both the viremon of\\nthe shadow, the fair Jackn hate\\nOncelved of thy strength but joy, it is for pear:\\nHeavens flatter which I joy to thee, for Lancaster\\nAnd thou with an infant from their\"\n",
            " b\"ROMEO:-\\nPrief honour like an oath?\\n\\nSecond Solilenies;\\nFor you, indeed, I have to have loathed to him,\\nAnd make him lost love to no more.\\n\\nPOMPEY:\\nNay, I beseech you, 'tis well, sir, will follow;\\nFor then the expressmen gallest powers too.\\n\\nKING RICHARD III:\\nBe it for Lewis our softer.\\n\\nAUTOLICAS:\\nBale commend; the gardins of you sought I ask, if\\nGod service than drop into him.\\n\\nYORK:\\nAs much for some amiled bund. Here, SirriP,\\nWho gentlewoman, this my death?\\n\\nDUKE VINCENTIO:\\nThe very wranks: one kits the worst of ear that match.\\n\\nDUKE OF AUMERLE:\\nMy king is gone, and then I saw them; lay them well.\\nI do not slily a dance. Yet if you resolve\\nThe hapless side, Plantagenet,\\nEre stay become to think. I saw away,\\nSo is your soul's dear encestical servants\\nAllies a price o'clock: therefore talk of Mercutio!\\n\\nJOHN OF GAUNT:\\nTake heed, I have been to dinner that your face?\\n\\nKATHARINA:\\nWhy, then he's the news? and that the same vows's wittance,\\nLest his enough than feeding hither.\\n\\nFirst Lord:\\nFor o\"], shape=(5,), dtype=string) \n",
            "\n",
            " ________________________________________________________________________________\n",
            "\n",
            "Run time:4.401217222213745\n"
          ],
          "name": "stdout"
        }
      ]
    },
    {
      "cell_type": "markdown",
      "metadata": {
        "id": "aQngcbT5dzGO"
      },
      "source": [
        "#Export the generator\n",
        "\n",
        "This single-step model can easily be saved and restored allowing you to use anywhere a tf.saved_model is accpeted"
      ]
    },
    {
      "cell_type": "code",
      "metadata": {
        "colab": {
          "base_uri": "https://localhost:8080/"
        },
        "id": "Zzt7HWbGeAhf",
        "outputId": "60240794-e96e-47ce-b738-62080316edcf"
      },
      "source": [
        "tf.saved_model.save(one_step_model,'one_step')\n",
        "one_step_reloaded = tf.saved_model.load('one_step')"
      ],
      "execution_count": null,
      "outputs": [
        {
          "output_type": "stream",
          "text": [
            "WARNING:tensorflow:Skipping full serialization of Keras layer <__main__.OneStep object at 0x7fd04e3922b0>, because it is not built.\n"
          ],
          "name": "stdout"
        },
        {
          "output_type": "stream",
          "text": [
            "WARNING:absl:Found untraced functions such as gru_cell_3_layer_call_and_return_conditional_losses, gru_cell_3_layer_call_fn, gru_cell_3_layer_call_fn, gru_cell_3_layer_call_and_return_conditional_losses, gru_cell_3_layer_call_and_return_conditional_losses while saving (showing 5 of 5). These functions will not be directly callable after loading.\n",
            "WARNING:absl:Found untraced functions such as gru_cell_3_layer_call_and_return_conditional_losses, gru_cell_3_layer_call_fn, gru_cell_3_layer_call_fn, gru_cell_3_layer_call_and_return_conditional_losses, gru_cell_3_layer_call_and_return_conditional_losses while saving (showing 5 of 5). These functions will not be directly callable after loading.\n"
          ],
          "name": "stderr"
        },
        {
          "output_type": "stream",
          "text": [
            "INFO:tensorflow:Assets written to: one_step/assets\n"
          ],
          "name": "stdout"
        },
        {
          "output_type": "stream",
          "text": [
            "INFO:tensorflow:Assets written to: one_step/assets\n"
          ],
          "name": "stderr"
        }
      ]
    },
    {
      "cell_type": "code",
      "metadata": {
        "colab": {
          "base_uri": "https://localhost:8080/"
        },
        "id": "B30x8G8beeK4",
        "outputId": "0bdccb96-635c-41ee-c03f-f4dccf838571"
      },
      "source": [
        "states = None\n",
        "next_char = tf.constant(['ROMEO: '])\n",
        "result = [next_char]\n",
        "\n",
        "for i in range(100):\n",
        "  next_char, states = one_step_reloaded.generate_one_step(next_char,states=states)\n",
        "  result.append(next_char)\n",
        "print(tf.strings.join(result)[0].numpy().decode(\"utf-8\"))"
      ],
      "execution_count": null,
      "outputs": [
        {
          "output_type": "stream",
          "text": [
            "WARNING:tensorflow:6 out of the last 7 calls to <function recreate_function.<locals>.restored_function_body at 0x7fd04c3da620> triggered tf.function retracing. Tracing is expensive and the excessive number of tracings could be due to (1) creating @tf.function repeatedly in a loop, (2) passing tensors with different shapes, (3) passing Python objects instead of tensors. For (1), please define your @tf.function outside of the loop. For (2), @tf.function has experimental_relax_shapes=True option that relaxes argument shapes that can avoid unnecessary retracing. For (3), please refer to https://www.tensorflow.org/guide/function#controlling_retracing and https://www.tensorflow.org/api_docs/python/tf/function for  more details.\n"
          ],
          "name": "stdout"
        },
        {
          "output_type": "stream",
          "text": [
            "WARNING:tensorflow:6 out of the last 7 calls to <function recreate_function.<locals>.restored_function_body at 0x7fd04c3da620> triggered tf.function retracing. Tracing is expensive and the excessive number of tracings could be due to (1) creating @tf.function repeatedly in a loop, (2) passing tensors with different shapes, (3) passing Python objects instead of tensors. For (1), please define your @tf.function outside of the loop. For (2), @tf.function has experimental_relax_shapes=True option that relaxes argument shapes that can avoid unnecessary retracing. For (3), please refer to https://www.tensorflow.org/guide/function#controlling_retracing and https://www.tensorflow.org/api_docs/python/tf/function for  more details.\n"
          ],
          "name": "stderr"
        },
        {
          "output_type": "stream",
          "text": [
            "ROMEO: I am undone's woe:\n",
            "loave well-faced imonously to France:\n",
            "And hast the corse of Bianca\n",
            "Lost lovely be\n"
          ],
          "name": "stdout"
        }
      ]
    },
    {
      "cell_type": "markdown",
      "metadata": {
        "id": "laUBVpu6ffj4"
      },
      "source": [
        "#Advanced: Customized Training\n",
        "\n",
        "The above training procedure is simple, but does not give you much control. It uses teacher-forcing which prevents bad predictions from being fed back to the model so the model never learns to recover from mistakes\n",
        "\n",
        "So now that you've seen how to run the model manually next you'll implement the trainings loop. This gives s starting point if, for example, you want implement curriculum learning to help stabilize the model's open-loop output.\n",
        "\n",
        "The most important part of a custom training loop is the train step function.\n",
        "\n",
        "Use tf.GradientTape to track the gradients. You can learn more about this approach by reading the eager execution guide\n",
        "\n",
        "The basic procedure is:\n",
        "1. Execute the model and calculate  the loss under a tf.GradientTape\n",
        "2.Calculate the updates and apply them to the model using optimizer "
      ]
    },
    {
      "cell_type": "code",
      "metadata": {
        "id": "sAU1ns4Wg7vz"
      },
      "source": [
        "class CustomTraining(MyModel):\n",
        "  @tf.function\n",
        "  def train_step(self,inputs):\n",
        "    inputs,labels = inputs\n",
        "    with tf.GradientTape() as tape:\n",
        "      predictions = self(inputs,training=True)\n",
        "      loss = self.loss(labels,predictions)\n",
        "    grads = tape.gradient(loss,model.trainable_variables)\n",
        "    self.optimizer.apply_gradients(zip(grads,model.trainable_variables))\n",
        "\n",
        "    return {'loss':loss}"
      ],
      "execution_count": null,
      "outputs": []
    },
    {
      "cell_type": "markdown",
      "metadata": {
        "id": "SBW8uRiohw-Z"
      },
      "source": [
        "The above implementation of the train_step method follows Keras' train_step conventions.  This is optional, but it allows you to change the behavior of the train step and still use keras' Model.compile and Model.fit methods\n"
      ]
    },
    {
      "cell_type": "code",
      "metadata": {
        "id": "y8KL3aN9iIEG"
      },
      "source": [
        "model = CustomTraining(\n",
        "    vocab_size = len(idx_from_chars.get_vocabulary()),\n",
        "    embedding_dim= embedding_dim,\n",
        "    rnn_units=rnn_units)"
      ],
      "execution_count": null,
      "outputs": []
    },
    {
      "cell_type": "code",
      "metadata": {
        "id": "MXrv4464iZWt"
      },
      "source": [
        "model.compile(optimizer=tf.keras.optimizers.Adam(),\n",
        "              loss = tf.keras.losses.SparseCategoricalCrossentropy(from_logits=True)\n",
        "              )"
      ],
      "execution_count": null,
      "outputs": []
    },
    {
      "cell_type": "code",
      "metadata": {
        "colab": {
          "base_uri": "https://localhost:8080/"
        },
        "id": "f1G9r0yPg6wK",
        "outputId": "e34cb937-10c8-4e44-a4a2-5aed42e48f8b"
      },
      "source": [
        "model.fit(dataset,epochs=1)"
      ],
      "execution_count": null,
      "outputs": [
        {
          "output_type": "stream",
          "text": [
            "172/172 [==============================] - 844s 5s/step - loss: 2.6874\n"
          ],
          "name": "stdout"
        },
        {
          "output_type": "execute_result",
          "data": {
            "text/plain": [
              "<tensorflow.python.keras.callbacks.History at 0x7fd04c360ef0>"
            ]
          },
          "metadata": {
            "tags": []
          },
          "execution_count": 116
        }
      ]
    },
    {
      "cell_type": "markdown",
      "metadata": {
        "id": "bNEYJwIzi7bJ"
      },
      "source": [
        "Or if you need more control, you can write your own complete custom training loop"
      ]
    },
    {
      "cell_type": "code",
      "metadata": {
        "colab": {
          "base_uri": "https://localhost:8080/",
          "height": 776
        },
        "id": "Ccvx7fQhjDQk",
        "outputId": "1ee16291-7879-4572-cc2e-1724a166c097"
      },
      "source": [
        "EPOCHS = 10\n",
        "\n",
        "mean = tf.metrics.Mean()\n",
        "\n",
        "for epoch in range(EPOCHS):\n",
        "  start = time.time()\n",
        "  mean.reset_states()\n",
        "\n",
        "  for (batch_n,(inp,target)) in enumerate(dataset):\n",
        "    logs = model.train_step([inp,target])\n",
        "    mean.update_state(logs['loss'])\n",
        "\n",
        "    if batch_n % 50 == 0:\n",
        "      template = 'Epoch {} Batch {} Loss{}'\n",
        "      print(template.format(epoch+1,batch_n,logs['loss']))\n",
        "  #saving (checkpoint) the model every 5 epochs\n",
        "\n",
        "  if ( epoch +1) % 5 ==0:\n",
        "    model.save_weights(checkpoint_prefix.format(epoch=epoch))\n",
        "  print()\n",
        "  print('Epoch {} Loss:{:.4f}'.format(epoch+1,mean.result().numpy()))\n",
        "  print('Time taken for 1 epoch {} sec'.format(time.time()-start))\n",
        "\n",
        "model.save_weights(checkpoint_prefix.format(epoch=epoch))\n"
      ],
      "execution_count": null,
      "outputs": [
        {
          "output_type": "stream",
          "text": [
            "Epoch 1 Batch 0 Loss2.1745564937591553\n",
            "Epoch 1 Batch 50 Loss2.002150058746338\n",
            "Epoch 1 Batch 100 Loss1.9347532987594604\n",
            "Epoch 1 Batch 150 Loss1.8432519435882568\n",
            "\n",
            "Epoch 1 Loss:1.9672\n",
            "Time taken for 1 epoch 840.7125413417816 sec\n",
            "Epoch 2 Batch 0 Loss1.793877363204956\n",
            "Epoch 2 Batch 50 Loss1.7236452102661133\n",
            "Epoch 2 Batch 100 Loss1.6522111892700195\n",
            "Epoch 2 Batch 150 Loss1.6672186851501465\n",
            "\n",
            "Epoch 2 Loss:1.6908\n",
            "Time taken for 1 epoch 843.1421854496002 sec\n",
            "Epoch 3 Batch 0 Loss1.5464941263198853\n",
            "Epoch 3 Batch 50 Loss1.5813069343566895\n",
            "Epoch 3 Batch 100 Loss1.5540143251419067\n",
            "Epoch 3 Batch 150 Loss1.4707956314086914\n",
            "\n",
            "Epoch 3 Loss:1.5337\n",
            "Time taken for 1 epoch 840.4143326282501 sec\n",
            "Epoch 4 Batch 0 Loss1.4395211935043335\n",
            "Epoch 4 Batch 50 Loss1.4646159410476685\n",
            "Epoch 4 Batch 100 Loss1.467626929283142\n",
            "Epoch 4 Batch 150 Loss1.4083011150360107\n",
            "\n",
            "Epoch 4 Loss:1.4376\n",
            "Time taken for 1 epoch 840.7282977104187 sec\n",
            "Epoch 5 Batch 0 Loss1.3748538494110107\n",
            "Epoch 5 Batch 50 Loss1.3727253675460815\n",
            "Epoch 5 Batch 100 Loss1.3203837871551514\n",
            "Epoch 5 Batch 150 Loss1.3507119417190552\n"
          ],
          "name": "stdout"
        },
        {
          "output_type": "error",
          "ename": "NameError",
          "evalue": "ignored",
          "traceback": [
            "\u001b[0;31m---------------------------------------------------------------------------\u001b[0m",
            "\u001b[0;31mNameError\u001b[0m                                 Traceback (most recent call last)",
            "\u001b[0;32m<ipython-input-117-de2ec7250770>\u001b[0m in \u001b[0;36m<module>\u001b[0;34m()\u001b[0m\n\u001b[1;32m     17\u001b[0m \u001b[0;34m\u001b[0m\u001b[0m\n\u001b[1;32m     18\u001b[0m   \u001b[0;32mif\u001b[0m \u001b[0;34m(\u001b[0m \u001b[0mepoch\u001b[0m \u001b[0;34m+\u001b[0m\u001b[0;36m1\u001b[0m\u001b[0;34m)\u001b[0m \u001b[0;34m%\u001b[0m \u001b[0;36m5\u001b[0m \u001b[0;34m==\u001b[0m\u001b[0;36m0\u001b[0m\u001b[0;34m:\u001b[0m\u001b[0;34m\u001b[0m\u001b[0;34m\u001b[0m\u001b[0m\n\u001b[0;32m---> 19\u001b[0;31m     \u001b[0mmode\u001b[0m\u001b[0;34m.\u001b[0m\u001b[0msave_weights\u001b[0m\u001b[0;34m(\u001b[0m\u001b[0mcheckpoint_prefix\u001b[0m\u001b[0;34m.\u001b[0m\u001b[0mformat\u001b[0m\u001b[0;34m(\u001b[0m\u001b[0mepoch\u001b[0m\u001b[0;34m=\u001b[0m\u001b[0mepoch\u001b[0m\u001b[0;34m)\u001b[0m\u001b[0;34m)\u001b[0m\u001b[0;34m\u001b[0m\u001b[0;34m\u001b[0m\u001b[0m\n\u001b[0m\u001b[1;32m     20\u001b[0m   \u001b[0mprint\u001b[0m\u001b[0;34m(\u001b[0m\u001b[0;34m)\u001b[0m\u001b[0;34m\u001b[0m\u001b[0;34m\u001b[0m\u001b[0m\n\u001b[1;32m     21\u001b[0m   \u001b[0mprint\u001b[0m\u001b[0;34m(\u001b[0m\u001b[0;34m'Epoch {} Loss:{:.4f}'\u001b[0m\u001b[0;34m.\u001b[0m\u001b[0mformat\u001b[0m\u001b[0;34m(\u001b[0m\u001b[0mepoch\u001b[0m\u001b[0;34m+\u001b[0m\u001b[0;36m1\u001b[0m\u001b[0;34m,\u001b[0m\u001b[0mmean\u001b[0m\u001b[0;34m.\u001b[0m\u001b[0mresult\u001b[0m\u001b[0;34m(\u001b[0m\u001b[0;34m)\u001b[0m\u001b[0;34m.\u001b[0m\u001b[0mnumpy\u001b[0m\u001b[0;34m(\u001b[0m\u001b[0;34m)\u001b[0m\u001b[0;34m)\u001b[0m\u001b[0;34m)\u001b[0m\u001b[0;34m\u001b[0m\u001b[0;34m\u001b[0m\u001b[0m\n",
            "\u001b[0;31mNameError\u001b[0m: name 'mode' is not defined"
          ]
        }
      ]
    }
  ]
}